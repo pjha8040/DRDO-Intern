{
 "cells": [
  {
   "cell_type": "code",
   "execution_count": 13,
   "id": "1f20f4b7",
   "metadata": {},
   "outputs": [
    {
     "name": "stdout",
     "output_type": "stream",
     "text": [
      "\n",
      "--- Custom Statistical Tests for PRNG ---\n",
      "Lempel-Ziv Complexity per bit    : 0.0000 -> FAIL ❌\n",
      "\n",
      "--- Custom Statistical Tests for QRNG ---\n",
      "Lempel-Ziv Complexity per bit    : 1.0001 -> PASS ✅\n"
     ]
    }
   ],
   "source": [
    "import numpy as np\n",
    "import zlib\n",
    "\n",
    "def load_binary_file(filepath):\n",
    "    with open(filepath, 'r') as f:\n",
    "        data = f.read().strip()\n",
    "    return np.array([int(b) for b in data if b in '01'])\n",
    "\n",
    "\n",
    "def lempel_ziv_complexity(bits):\n",
    "    binary_string = ''.join(map(str, bits))\n",
    "    n = len(binary_string)\n",
    "    i, k, l = 0, 1, 1\n",
    "    complexity = 1\n",
    "    while True:\n",
    "        if i + k >= n:\n",
    "            complexity += 1\n",
    "            break\n",
    "        if binary_string[i:i+k] == binary_string[l:l+k]:\n",
    "            k += 1\n",
    "        else:\n",
    "            if k > 1:\n",
    "                i += 1\n",
    "                k = 1\n",
    "            else:\n",
    "                complexity += 1\n",
    "                l += 1\n",
    "                i = 0\n",
    "                k = 1\n",
    "        if l + k > n:\n",
    "            complexity += 1\n",
    "            break\n",
    "    return complexity / n\n",
    "\n",
    "\n",
    "\n",
    "def run_custom_tests(bits, label):\n",
    "    print(f\"\\n--- Custom Statistical Tests for {label} ---\")\n",
    "    lz = lempel_ziv_complexity(bits)\n",
    "    print(f\"Lempel-Ziv Complexity per bit    : {lz:.4f} -> {'PASS ✅' if lz > 0.009 else 'FAIL ❌'}\")\n",
    "\n",
    "# Main\n",
    "if __name__ == \"__main__\":\n",
    "    prng_bits = load_binary_file(\"2_P.txt\")\n",
    "    qrng_bits = load_binary_file(\"quantum-random.txt\")\n",
    "\n",
    "    run_custom_tests(prng_bits, \"PRNG\")\n",
    "    run_custom_tests(qrng_bits, \"QRNG\")\n"
   ]
  },
  {
   "cell_type": "markdown",
   "id": "95b130be",
   "metadata": {},
   "source": [
    "## conclusion\n",
    "\n",
    "Lempel Ziv test works :\n",
    "    Dataset PR ---> Big (detected) 1e4 atleast\n",
    "               ---> small (not detected)\n",
    "    Dataset QRNG --> Big (detected easily)\n",
    "                ---> small (not detected)\n",
    "\n",
    "NIST test:\n",
    "    Dataset PRNG --> BIG (not detected)\n",
    "                --> small (detected)\n",
    "    Dataset QRNG --> BIG/SMall (detected)"
   ]
  }
 ],
 "metadata": {
  "kernelspec": {
   "display_name": "Python 3",
   "language": "python",
   "name": "python3"
  },
  "language_info": {
   "codemirror_mode": {
    "name": "ipython",
    "version": 3
   },
   "file_extension": ".py",
   "mimetype": "text/x-python",
   "name": "python",
   "nbconvert_exporter": "python",
   "pygments_lexer": "ipython3",
   "version": "3.10.15"
  }
 },
 "nbformat": 4,
 "nbformat_minor": 5
}
